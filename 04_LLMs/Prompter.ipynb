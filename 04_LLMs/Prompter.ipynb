{
 "cells": [
  {
   "cell_type": "code",
   "execution_count": 1,
   "id": "063b1c0f",
   "metadata": {
    "colab": {
     "base_uri": "https://localhost:8080/"
    },
    "executionInfo": {
     "elapsed": 3154,
     "status": "ok",
     "timestamp": 1734617342936,
     "user": {
      "displayName": "Jean",
      "userId": "07964602275811845014"
     },
     "user_tz": -60
    },
    "id": "063b1c0f",
    "outputId": "971d9882-ccf7-427c-c0b5-29bc61dd574e"
   },
   "outputs": [
    {
     "name": "stdout",
     "output_type": "stream",
     "text": [
      "Name: huggingface-hub\n",
      "Version: 0.27.0\n",
      "Summary: Client library to download and publish models, datasets and other repos on the huggingface.co hub\n",
      "Home-page: https://github.com/huggingface/huggingface_hub\n",
      "Author: Hugging Face, Inc.\n",
      "Author-email: julien@huggingface.co\n",
      "License: Apache\n",
      "Location: /usr/local/lib/python3.10/dist-packages\n",
      "Requires: filelock, fsspec, packaging, pyyaml, requests, tqdm, typing-extensions\n",
      "Required-by: accelerate, diffusers, peft, sentence-transformers, timm, tokenizers, transformers\n"
     ]
    }
   ],
   "source": [
    "!pip show huggingface_hub"
   ]
  },
  {
   "cell_type": "code",
   "execution_count": 2,
   "id": "swFUvOXQbari",
   "metadata": {
    "colab": {
     "base_uri": "https://localhost:8080/"
    },
    "executionInfo": {
     "elapsed": 6970,
     "status": "ok",
     "timestamp": 1734617436676,
     "user": {
      "displayName": "Jean",
      "userId": "07964602275811845014"
     },
     "user_tz": -60
    },
    "id": "swFUvOXQbari",
    "outputId": "0632ceea-8fa0-46db-c14f-6b48f792d55a"
   },
   "outputs": [
    {
     "name": "stdout",
     "output_type": "stream",
     "text": [
      "Downloading...\n",
      "From: https://drive.google.com/uc?id=18_GttJtgK_1ULeinlDMFBzbxz2ih5mLB\n",
      "To: /content/test_chunks_txt.zip\n",
      "\r",
      "  0% 0.00/18.9k [00:00<?, ?B/s]\r",
      "100% 18.9k/18.9k [00:00<00:00, 62.5MB/s]\n"
     ]
    }
   ],
   "source": [
    "!gdown https://drive.google.com/uc?id=18_GttJtgK_1ULeinlDMFBzbxz2ih5mLB"
   ]
  },
  {
   "cell_type": "code",
   "execution_count": 3,
   "id": "OdPW10gPdyiz",
   "metadata": {
    "colab": {
     "base_uri": "https://localhost:8080/"
    },
    "executionInfo": {
     "elapsed": 487,
     "status": "ok",
     "timestamp": 1734617439723,
     "user": {
      "displayName": "Jean",
      "userId": "07964602275811845014"
     },
     "user_tz": -60
    },
    "id": "OdPW10gPdyiz",
    "outputId": "576cce3a-f59b-4fd5-e9a3-4e5897907517"
   },
   "outputs": [
    {
     "name": "stdout",
     "output_type": "stream",
     "text": [
      "Archive:  /content/test_chunks_txt.zip\n",
      "   creating: test_chunks_txt/\n",
      "  inflating: test_chunks_txt/1934_Ivoi_Paul-d_Le-docteur-Mystère.txt_chunk_365.txt  \n",
      "  inflating: test_chunks_txt/1830_Sue-Eugene_Kernok-le-Pirate.txt_chunk_44.txt  \n",
      "  inflating: test_chunks_txt/1840_Beauvoir_Roger-de_Le-chevalier-de-Saint-Georges.txt_chunk_403.txt  \n",
      "  inflating: test_chunks_txt/1840_Beauvoir_Roger-de_Le-chevalier-de-Saint-Georges.txt_chunk_505.txt  \n",
      "  inflating: test_chunks_txt/1840_Beauvoir_Roger-de_Le-chevalier-de-Saint-Georges.txt_chunk_527.txt  \n",
      "  inflating: test_chunks_txt/1840_Beauvoir_Roger-de_Le-chevalier-de-Saint-Georges.txt_chunk_542.txt  \n",
      "  inflating: test_chunks_txt/1842_Sue-Eugene_Les-Mysteres-de-Paris_Tome-II.txt_chunk_89.txt  \n",
      "  inflating: test_chunks_txt/1958_Kessel-Joseph_Le-lion.txt_chunk_68.txt  \n",
      "  inflating: test_chunks_txt/1958_Kessel-Joseph_Le-lion.txt_chunk_69.txt  \n",
      "  inflating: test_chunks_txt/1844_Dumas-Alexandre_Les-Trois-Mousquetaires.txt_chunk_282.txt  \n"
     ]
    }
   ],
   "source": [
    "!unzip /content/test_chunks_txt.zip"
   ]
  },
  {
   "cell_type": "code",
   "execution_count": 4,
   "id": "e0M7-e3rbauL",
   "metadata": {
    "executionInfo": {
     "elapsed": 1171,
     "status": "ok",
     "timestamp": 1734617455948,
     "user": {
      "displayName": "Jean",
      "userId": "07964602275811845014"
     },
     "user_tz": -60
    },
    "id": "e0M7-e3rbauL"
   },
   "outputs": [],
   "source": [
    "import pandas as pd\n",
    "import numpy as np\n",
    "from tqdm.notebook import tqdm\n",
    "from glob import glob\n",
    "from os import path\n",
    "from unicodedata import normalize\n",
    "from huggingface_hub import InferenceApi, InferenceClient"
   ]
  },
  {
   "cell_type": "code",
   "execution_count": 1,
   "id": "hUPA8Ctibawj",
   "metadata": {
    "executionInfo": {
     "elapsed": 270,
     "status": "ok",
     "timestamp": 1734617486004,
     "user": {
      "displayName": "Jean",
      "userId": "07964602275811845014"
     },
     "user_tz": -60
    },
    "id": "hUPA8Ctibawj"
   },
   "outputs": [],
   "source": [
    "# Replace with your Hugging Face API token\n",
    "API_TOKEN = \"API_TOKEN\""
   ]
  },
  {
   "cell_type": "code",
   "execution_count": 6,
   "id": "YRgxZgrHba0u",
   "metadata": {
    "executionInfo": {
     "elapsed": 312,
     "status": "ok",
     "timestamp": 1734617549492,
     "user": {
      "displayName": "Jean",
      "userId": "07964602275811845014"
     },
     "user_tz": -60
    },
    "id": "YRgxZgrHba0u"
   },
   "outputs": [],
   "source": [
    "# Initialize the Hugging Face inference API client\n",
    "client = InferenceClient(api_key=API_TOKEN)"
   ]
  },
  {
   "cell_type": "code",
   "execution_count": 7,
   "id": "uLiXdAqvgGFF",
   "metadata": {
    "executionInfo": {
     "elapsed": 324,
     "status": "ok",
     "timestamp": 1734617552989,
     "user": {
      "displayName": "Jean",
      "userId": "07964602275811845014"
     },
     "user_tz": -60
    },
    "id": "uLiXdAqvgGFF"
   },
   "outputs": [],
   "source": [
    "path_test = 'test_chunks_txt/*.txt'"
   ]
  },
  {
   "cell_type": "code",
   "execution_count": 8,
   "id": "1rY39Swuba5z",
   "metadata": {
    "executionInfo": {
     "elapsed": 275,
     "status": "ok",
     "timestamp": 1734617558426,
     "user": {
      "displayName": "Jean",
      "userId": "07964602275811845014"
     },
     "user_tz": -60
    },
    "id": "1rY39Swuba5z"
   },
   "outputs": [],
   "source": [
    "def clean_text(txt):\n",
    "    txt_res = normalize(\"NFKD\", txt).replace('\\xa0', ' ')\n",
    "    txt_res = txt_res.replace(\"\\\\\", \"\").replace('\\\\xa0', '')\n",
    "    return txt_res"
   ]
  },
  {
   "cell_type": "code",
   "execution_count": 19,
   "id": "6o4j9bVXbbG8",
   "metadata": {
    "executionInfo": {
     "elapsed": 201,
     "status": "ok",
     "timestamp": 1734618089490,
     "user": {
      "displayName": "Jean",
      "userId": "07964602275811845014"
     },
     "user_tz": -60
    },
    "id": "6o4j9bVXbbG8"
   },
   "outputs": [],
   "source": [
    "def llama_stuff_huggingface(chunk):\n",
    "    instruction = (\n",
    "        \"Give me as an output only one word, if this text is typical of the adventure novels genre; write ADVENTURE; \"\n",
    "        \"elif unsure; write NON_ADVENTURE. Prefer NON_ADVENTURE if unsure\"\n",
    "    )\n",
    "    input_text = instruction + \"\\n\\n\" + chunk\n",
    "\n",
    "    try:\n",
    "        stream = client.chat.completions.create(model='mistralai/Mixtral-8x7B-Instruct-v0.1',#\"meta-llama/Llama-3.2-1B\",\n",
    "    \t  #Building the prompt\n",
    "          messages=[\n",
    "            {\"role\": \"user\",\n",
    "    \t\t    \"content\": input_text\n",
    "            }\n",
    "          ],\n",
    "    \t    max_tokens=10,\n",
    "    \t    stream=True\n",
    "        )\n",
    "\n",
    "        # Initialize an empty list to store the streamed content\n",
    "        chat = []\n",
    "\n",
    "        # Iterate over the generator to process the streamed chunks\n",
    "        for chunk in stream:\n",
    "            if 'choices' in chunk and 'delta' in chunk['choices'][0]:\n",
    "                # Extract the content from the streamed chunk\n",
    "                content = chunk['choices'][0]['delta'].get('content', '')\n",
    "                chat.append(content)\n",
    "\n",
    "        # Combine all parts of the streamed content into the final response\n",
    "        response = ''.join(chat).strip()\n",
    "\n",
    "        # Print the completion\n",
    "        print(\"Completion:\", response)\n",
    "\n",
    "        return response\n",
    "    except Exception as e:\n",
    "        print(f\"Error: {e}\")\n",
    "        return None\n"
   ]
  },
  {
   "cell_type": "code",
   "execution_count": 20,
   "id": "gBCHx7PzcRp2",
   "metadata": {
    "executionInfo": {
     "elapsed": 1014,
     "status": "ok",
     "timestamp": 1734618094577,
     "user": {
      "displayName": "Jean",
      "userId": "07964602275811845014"
     },
     "user_tz": -60
    },
    "id": "gBCHx7PzcRp2"
   },
   "outputs": [],
   "source": [
    "def get_labels(path_name):\n",
    "    df = pd.DataFrame(columns=['doc', 'label'])\n",
    "\n",
    "    for doc in tqdm(glob(path_name)):\n",
    "        doc_name = path.splitext(path.basename(doc))[0]\n",
    "        with open(doc, encoding=\"utf8\") as file:\n",
    "            text = file.readlines()\n",
    "            text_cleaned = clean_text(str(text).lower())\n",
    "\n",
    "            label = llama_stuff_huggingface(text_cleaned)\n",
    "\n",
    "            df = pd.concat([df, pd.DataFrame({'doc': [doc_name], 'label': [label]})])\n",
    "            df_temp = df.set_index('doc')\n",
    "            #df_temp.to_csv('llama_ANNOT_OUTPUT_TEMP.csv')\n",
    "    df.set_index('doc', inplace=True)\n",
    "    #df.to_csv('LLAMA_ANNOT_OUTPUT_MAIN.csv')\n",
    "\n",
    "    return df"
   ]
  },
  {
   "cell_type": "code",
   "execution_count": 21,
   "id": "gWhnA54ucTgk",
   "metadata": {
    "colab": {
     "base_uri": "https://localhost:8080/",
     "height": 250,
     "referenced_widgets": [
      "089e1631b5204006b0de57bd274d850c",
      "256dc27987074887a587510e1063b80f",
      "2cdae30c84ae4d9aa75e17c6f12ba7f0",
      "8f74701d475b4087b33511f2f28583e7",
      "16406b5f199b47489b9b2d1f47ed6f70",
      "2619d7816c574808930a9df06c32bea8",
      "a805847102bb4c1f9b5fdd9aca22d873",
      "4d20a3f64278491b832c54faae7a5d7d",
      "cd3d911969b74eb88ac7b7b7eb4fe465",
      "219ecd0083ce47e4a1a72fbaee5a0447",
      "4a107ee39116470cb0ad7edeb43ed9d1"
     ]
    },
    "executionInfo": {
     "elapsed": 4718,
     "status": "ok",
     "timestamp": 1734618099504,
     "user": {
      "displayName": "Jean",
      "userId": "07964602275811845014"
     },
     "user_tz": -60
    },
    "id": "gWhnA54ucTgk",
    "outputId": "2bc44e2f-1a0c-4866-c033-05671bc6c885"
   },
   "outputs": [
    {
     "data": {
      "application/vnd.jupyter.widget-view+json": {
       "model_id": "089e1631b5204006b0de57bd274d850c",
       "version_major": 2,
       "version_minor": 0
      },
      "text/plain": [
       "  0%|          | 0/10 [00:00<?, ?it/s]"
      ]
     },
     "metadata": {},
     "output_type": "display_data"
    },
    {
     "name": "stdout",
     "output_type": "stream",
     "text": [
      "Completion: NON_ADVENTURE\n",
      "Completion: NON_ADVENTURE\n",
      "Completion: NON_ADVENTURE\n",
      "Completion: NON_ADVENTURE\n",
      "Completion: NON_ADVENTURE\n",
      "Completion: NON_ADVENTURE\n",
      "Completion: NON_ADVENTURE\n",
      "Completion: NON\\_ADVENTURE\n",
      "Completion: NON_ADVENTURE\n",
      "Completion: NON_ADVENTURE\n"
     ]
    }
   ],
   "source": [
    "df_labels = get_labels(path_test)"
   ]
  },
  {
   "cell_type": "code",
   "execution_count": 52,
   "id": "w1sKa--qcVUf",
   "metadata": {
    "colab": {
     "base_uri": "https://localhost:8080/",
     "height": 414
    },
    "executionInfo": {
     "elapsed": 471,
     "status": "ok",
     "timestamp": 1734605627622,
     "user": {
      "displayName": "Jean",
      "userId": "07964602275811845014"
     },
     "user_tz": -60
    },
    "id": "w1sKa--qcVUf",
    "outputId": "8c772381-30bb-4b38-fec0-75baa7338706"
   },
   "outputs": [
    {
     "data": {
      "application/vnd.google.colaboratory.intrinsic+json": {
       "summary": "{\n  \"name\": \"df_labels\",\n  \"rows\": 10,\n  \"fields\": [\n    {\n      \"column\": \"doc\",\n      \"properties\": {\n        \"dtype\": \"string\",\n        \"num_unique_values\": 10,\n        \"samples\": [\n          \"1840_Beauvoir_Roger-de_Le-chevalier-de-Saint-Georges.txt_chunk_505\",\n          \"1840_Beauvoir_Roger-de_Le-chevalier-de-Saint-Georges.txt_chunk_403\",\n          \"1840_Beauvoir_Roger-de_Le-chevalier-de-Saint-Georges.txt_chunk_527\"\n        ],\n        \"semantic_type\": \"\",\n        \"description\": \"\"\n      }\n    },\n    {\n      \"column\": \"label\",\n      \"properties\": {\n        \"dtype\": \"category\",\n        \"num_unique_values\": 3,\n        \"samples\": [\n          \"ADVENTURE\",\n          \"NON_ADVENTURE\",\n          \"ADVENTURE\\n\\nThe text you provided\"\n        ],\n        \"semantic_type\": \"\",\n        \"description\": \"\"\n      }\n    }\n  ]\n}",
       "type": "dataframe",
       "variable_name": "df_labels"
      },
      "text/html": [
       "\n",
       "  <div id=\"df-385ebbcd-1e97-441c-afde-644cdab6e867\" class=\"colab-df-container\">\n",
       "    <div>\n",
       "<style scoped>\n",
       "    .dataframe tbody tr th:only-of-type {\n",
       "        vertical-align: middle;\n",
       "    }\n",
       "\n",
       "    .dataframe tbody tr th {\n",
       "        vertical-align: top;\n",
       "    }\n",
       "\n",
       "    .dataframe thead th {\n",
       "        text-align: right;\n",
       "    }\n",
       "</style>\n",
       "<table border=\"1\" class=\"dataframe\">\n",
       "  <thead>\n",
       "    <tr style=\"text-align: right;\">\n",
       "      <th></th>\n",
       "      <th>label</th>\n",
       "    </tr>\n",
       "    <tr>\n",
       "      <th>doc</th>\n",
       "      <th></th>\n",
       "    </tr>\n",
       "  </thead>\n",
       "  <tbody>\n",
       "    <tr>\n",
       "      <th>1842_Sue-Eugene_Les-Mysteres-de-Paris_Tome-II.txt_chunk_89</th>\n",
       "      <td>ADVENTURE</td>\n",
       "    </tr>\n",
       "    <tr>\n",
       "      <th>1840_Beauvoir_Roger-de_Le-chevalier-de-Saint-Georges.txt_chunk_403</th>\n",
       "      <td>NON_ADVENTURE</td>\n",
       "    </tr>\n",
       "    <tr>\n",
       "      <th>1844_Dumas-Alexandre_Les-Trois-Mousquetaires.txt_chunk_282</th>\n",
       "      <td>ADVENTURE\\n\\nThe text you provided</td>\n",
       "    </tr>\n",
       "    <tr>\n",
       "      <th>1958_Kessel-Joseph_Le-lion.txt_chunk_68</th>\n",
       "      <td>ADVENTURE</td>\n",
       "    </tr>\n",
       "    <tr>\n",
       "      <th>1840_Beauvoir_Roger-de_Le-chevalier-de-Saint-Georges.txt_chunk_542</th>\n",
       "      <td>NON_ADVENTURE</td>\n",
       "    </tr>\n",
       "    <tr>\n",
       "      <th>1840_Beauvoir_Roger-de_Le-chevalier-de-Saint-Georges.txt_chunk_527</th>\n",
       "      <td>ADVENTURE</td>\n",
       "    </tr>\n",
       "    <tr>\n",
       "      <th>1830_Sue-Eugene_Kernok-le-Pirate.txt_chunk_44</th>\n",
       "      <td>ADVENTURE</td>\n",
       "    </tr>\n",
       "    <tr>\n",
       "      <th>1934_Ivoi_Paul-d_Le-docteur-Mystère.txt_chunk_365</th>\n",
       "      <td>ADVENTURE\\n\\nThe text you provided</td>\n",
       "    </tr>\n",
       "    <tr>\n",
       "      <th>1840_Beauvoir_Roger-de_Le-chevalier-de-Saint-Georges.txt_chunk_505</th>\n",
       "      <td>ADVENTURE</td>\n",
       "    </tr>\n",
       "    <tr>\n",
       "      <th>1958_Kessel-Joseph_Le-lion.txt_chunk_69</th>\n",
       "      <td>ADVENTURE</td>\n",
       "    </tr>\n",
       "  </tbody>\n",
       "</table>\n",
       "</div>\n",
       "    <div class=\"colab-df-buttons\">\n",
       "\n",
       "  <div class=\"colab-df-container\">\n",
       "    <button class=\"colab-df-convert\" onclick=\"convertToInteractive('df-385ebbcd-1e97-441c-afde-644cdab6e867')\"\n",
       "            title=\"Convert this dataframe to an interactive table.\"\n",
       "            style=\"display:none;\">\n",
       "\n",
       "  <svg xmlns=\"http://www.w3.org/2000/svg\" height=\"24px\" viewBox=\"0 -960 960 960\">\n",
       "    <path d=\"M120-120v-720h720v720H120Zm60-500h600v-160H180v160Zm220 220h160v-160H400v160Zm0 220h160v-160H400v160ZM180-400h160v-160H180v160Zm440 0h160v-160H620v160ZM180-180h160v-160H180v160Zm440 0h160v-160H620v160Z\"/>\n",
       "  </svg>\n",
       "    </button>\n",
       "\n",
       "  <style>\n",
       "    .colab-df-container {\n",
       "      display:flex;\n",
       "      gap: 12px;\n",
       "    }\n",
       "\n",
       "    .colab-df-convert {\n",
       "      background-color: #E8F0FE;\n",
       "      border: none;\n",
       "      border-radius: 50%;\n",
       "      cursor: pointer;\n",
       "      display: none;\n",
       "      fill: #1967D2;\n",
       "      height: 32px;\n",
       "      padding: 0 0 0 0;\n",
       "      width: 32px;\n",
       "    }\n",
       "\n",
       "    .colab-df-convert:hover {\n",
       "      background-color: #E2EBFA;\n",
       "      box-shadow: 0px 1px 2px rgba(60, 64, 67, 0.3), 0px 1px 3px 1px rgba(60, 64, 67, 0.15);\n",
       "      fill: #174EA6;\n",
       "    }\n",
       "\n",
       "    .colab-df-buttons div {\n",
       "      margin-bottom: 4px;\n",
       "    }\n",
       "\n",
       "    [theme=dark] .colab-df-convert {\n",
       "      background-color: #3B4455;\n",
       "      fill: #D2E3FC;\n",
       "    }\n",
       "\n",
       "    [theme=dark] .colab-df-convert:hover {\n",
       "      background-color: #434B5C;\n",
       "      box-shadow: 0px 1px 3px 1px rgba(0, 0, 0, 0.15);\n",
       "      filter: drop-shadow(0px 1px 2px rgba(0, 0, 0, 0.3));\n",
       "      fill: #FFFFFF;\n",
       "    }\n",
       "  </style>\n",
       "\n",
       "    <script>\n",
       "      const buttonEl =\n",
       "        document.querySelector('#df-385ebbcd-1e97-441c-afde-644cdab6e867 button.colab-df-convert');\n",
       "      buttonEl.style.display =\n",
       "        google.colab.kernel.accessAllowed ? 'block' : 'none';\n",
       "\n",
       "      async function convertToInteractive(key) {\n",
       "        const element = document.querySelector('#df-385ebbcd-1e97-441c-afde-644cdab6e867');\n",
       "        const dataTable =\n",
       "          await google.colab.kernel.invokeFunction('convertToInteractive',\n",
       "                                                    [key], {});\n",
       "        if (!dataTable) return;\n",
       "\n",
       "        const docLinkHtml = 'Like what you see? Visit the ' +\n",
       "          '<a target=\"_blank\" href=https://colab.research.google.com/notebooks/data_table.ipynb>data table notebook</a>'\n",
       "          + ' to learn more about interactive tables.';\n",
       "        element.innerHTML = '';\n",
       "        dataTable['output_type'] = 'display_data';\n",
       "        await google.colab.output.renderOutput(dataTable, element);\n",
       "        const docLink = document.createElement('div');\n",
       "        docLink.innerHTML = docLinkHtml;\n",
       "        element.appendChild(docLink);\n",
       "      }\n",
       "    </script>\n",
       "  </div>\n",
       "\n",
       "\n",
       "<div id=\"df-5933b974-2c56-4a8a-9240-9366f1bcae8a\">\n",
       "  <button class=\"colab-df-quickchart\" onclick=\"quickchart('df-5933b974-2c56-4a8a-9240-9366f1bcae8a')\"\n",
       "            title=\"Suggest charts\"\n",
       "            style=\"display:none;\">\n",
       "\n",
       "<svg xmlns=\"http://www.w3.org/2000/svg\" height=\"24px\"viewBox=\"0 0 24 24\"\n",
       "     width=\"24px\">\n",
       "    <g>\n",
       "        <path d=\"M19 3H5c-1.1 0-2 .9-2 2v14c0 1.1.9 2 2 2h14c1.1 0 2-.9 2-2V5c0-1.1-.9-2-2-2zM9 17H7v-7h2v7zm4 0h-2V7h2v10zm4 0h-2v-4h2v4z\"/>\n",
       "    </g>\n",
       "</svg>\n",
       "  </button>\n",
       "\n",
       "<style>\n",
       "  .colab-df-quickchart {\n",
       "      --bg-color: #E8F0FE;\n",
       "      --fill-color: #1967D2;\n",
       "      --hover-bg-color: #E2EBFA;\n",
       "      --hover-fill-color: #174EA6;\n",
       "      --disabled-fill-color: #AAA;\n",
       "      --disabled-bg-color: #DDD;\n",
       "  }\n",
       "\n",
       "  [theme=dark] .colab-df-quickchart {\n",
       "      --bg-color: #3B4455;\n",
       "      --fill-color: #D2E3FC;\n",
       "      --hover-bg-color: #434B5C;\n",
       "      --hover-fill-color: #FFFFFF;\n",
       "      --disabled-bg-color: #3B4455;\n",
       "      --disabled-fill-color: #666;\n",
       "  }\n",
       "\n",
       "  .colab-df-quickchart {\n",
       "    background-color: var(--bg-color);\n",
       "    border: none;\n",
       "    border-radius: 50%;\n",
       "    cursor: pointer;\n",
       "    display: none;\n",
       "    fill: var(--fill-color);\n",
       "    height: 32px;\n",
       "    padding: 0;\n",
       "    width: 32px;\n",
       "  }\n",
       "\n",
       "  .colab-df-quickchart:hover {\n",
       "    background-color: var(--hover-bg-color);\n",
       "    box-shadow: 0 1px 2px rgba(60, 64, 67, 0.3), 0 1px 3px 1px rgba(60, 64, 67, 0.15);\n",
       "    fill: var(--button-hover-fill-color);\n",
       "  }\n",
       "\n",
       "  .colab-df-quickchart-complete:disabled,\n",
       "  .colab-df-quickchart-complete:disabled:hover {\n",
       "    background-color: var(--disabled-bg-color);\n",
       "    fill: var(--disabled-fill-color);\n",
       "    box-shadow: none;\n",
       "  }\n",
       "\n",
       "  .colab-df-spinner {\n",
       "    border: 2px solid var(--fill-color);\n",
       "    border-color: transparent;\n",
       "    border-bottom-color: var(--fill-color);\n",
       "    animation:\n",
       "      spin 1s steps(1) infinite;\n",
       "  }\n",
       "\n",
       "  @keyframes spin {\n",
       "    0% {\n",
       "      border-color: transparent;\n",
       "      border-bottom-color: var(--fill-color);\n",
       "      border-left-color: var(--fill-color);\n",
       "    }\n",
       "    20% {\n",
       "      border-color: transparent;\n",
       "      border-left-color: var(--fill-color);\n",
       "      border-top-color: var(--fill-color);\n",
       "    }\n",
       "    30% {\n",
       "      border-color: transparent;\n",
       "      border-left-color: var(--fill-color);\n",
       "      border-top-color: var(--fill-color);\n",
       "      border-right-color: var(--fill-color);\n",
       "    }\n",
       "    40% {\n",
       "      border-color: transparent;\n",
       "      border-right-color: var(--fill-color);\n",
       "      border-top-color: var(--fill-color);\n",
       "    }\n",
       "    60% {\n",
       "      border-color: transparent;\n",
       "      border-right-color: var(--fill-color);\n",
       "    }\n",
       "    80% {\n",
       "      border-color: transparent;\n",
       "      border-right-color: var(--fill-color);\n",
       "      border-bottom-color: var(--fill-color);\n",
       "    }\n",
       "    90% {\n",
       "      border-color: transparent;\n",
       "      border-bottom-color: var(--fill-color);\n",
       "    }\n",
       "  }\n",
       "</style>\n",
       "\n",
       "  <script>\n",
       "    async function quickchart(key) {\n",
       "      const quickchartButtonEl =\n",
       "        document.querySelector('#' + key + ' button');\n",
       "      quickchartButtonEl.disabled = true;  // To prevent multiple clicks.\n",
       "      quickchartButtonEl.classList.add('colab-df-spinner');\n",
       "      try {\n",
       "        const charts = await google.colab.kernel.invokeFunction(\n",
       "            'suggestCharts', [key], {});\n",
       "      } catch (error) {\n",
       "        console.error('Error during call to suggestCharts:', error);\n",
       "      }\n",
       "      quickchartButtonEl.classList.remove('colab-df-spinner');\n",
       "      quickchartButtonEl.classList.add('colab-df-quickchart-complete');\n",
       "    }\n",
       "    (() => {\n",
       "      let quickchartButtonEl =\n",
       "        document.querySelector('#df-5933b974-2c56-4a8a-9240-9366f1bcae8a button');\n",
       "      quickchartButtonEl.style.display =\n",
       "        google.colab.kernel.accessAllowed ? 'block' : 'none';\n",
       "    })();\n",
       "  </script>\n",
       "</div>\n",
       "\n",
       "  <div id=\"id_5ddb1f9c-d245-424d-84b3-1cf4036ccaae\">\n",
       "    <style>\n",
       "      .colab-df-generate {\n",
       "        background-color: #E8F0FE;\n",
       "        border: none;\n",
       "        border-radius: 50%;\n",
       "        cursor: pointer;\n",
       "        display: none;\n",
       "        fill: #1967D2;\n",
       "        height: 32px;\n",
       "        padding: 0 0 0 0;\n",
       "        width: 32px;\n",
       "      }\n",
       "\n",
       "      .colab-df-generate:hover {\n",
       "        background-color: #E2EBFA;\n",
       "        box-shadow: 0px 1px 2px rgba(60, 64, 67, 0.3), 0px 1px 3px 1px rgba(60, 64, 67, 0.15);\n",
       "        fill: #174EA6;\n",
       "      }\n",
       "\n",
       "      [theme=dark] .colab-df-generate {\n",
       "        background-color: #3B4455;\n",
       "        fill: #D2E3FC;\n",
       "      }\n",
       "\n",
       "      [theme=dark] .colab-df-generate:hover {\n",
       "        background-color: #434B5C;\n",
       "        box-shadow: 0px 1px 3px 1px rgba(0, 0, 0, 0.15);\n",
       "        filter: drop-shadow(0px 1px 2px rgba(0, 0, 0, 0.3));\n",
       "        fill: #FFFFFF;\n",
       "      }\n",
       "    </style>\n",
       "    <button class=\"colab-df-generate\" onclick=\"generateWithVariable('df_labels')\"\n",
       "            title=\"Generate code using this dataframe.\"\n",
       "            style=\"display:none;\">\n",
       "\n",
       "  <svg xmlns=\"http://www.w3.org/2000/svg\" height=\"24px\"viewBox=\"0 0 24 24\"\n",
       "       width=\"24px\">\n",
       "    <path d=\"M7,19H8.4L18.45,9,17,7.55,7,17.6ZM5,21V16.75L18.45,3.32a2,2,0,0,1,2.83,0l1.4,1.43a1.91,1.91,0,0,1,.58,1.4,1.91,1.91,0,0,1-.58,1.4L9.25,21ZM18.45,9,17,7.55Zm-12,3A5.31,5.31,0,0,0,4.9,8.1,5.31,5.31,0,0,0,1,6.5,5.31,5.31,0,0,0,4.9,4.9,5.31,5.31,0,0,0,6.5,1,5.31,5.31,0,0,0,8.1,4.9,5.31,5.31,0,0,0,12,6.5,5.46,5.46,0,0,0,6.5,12Z\"/>\n",
       "  </svg>\n",
       "    </button>\n",
       "    <script>\n",
       "      (() => {\n",
       "      const buttonEl =\n",
       "        document.querySelector('#id_5ddb1f9c-d245-424d-84b3-1cf4036ccaae button.colab-df-generate');\n",
       "      buttonEl.style.display =\n",
       "        google.colab.kernel.accessAllowed ? 'block' : 'none';\n",
       "\n",
       "      buttonEl.onclick = () => {\n",
       "        google.colab.notebook.generateWithVariable('df_labels');\n",
       "      }\n",
       "      })();\n",
       "    </script>\n",
       "  </div>\n",
       "\n",
       "    </div>\n",
       "  </div>\n"
      ],
      "text/plain": [
       "                                                                                 label\n",
       "doc                                                                                   \n",
       "1842_Sue-Eugene_Les-Mysteres-de-Paris_Tome-II.t...                           ADVENTURE\n",
       "1840_Beauvoir_Roger-de_Le-chevalier-de-Saint-Ge...                       NON_ADVENTURE\n",
       "1844_Dumas-Alexandre_Les-Trois-Mousquetaires.tx...  ADVENTURE\\n\\nThe text you provided\n",
       "1958_Kessel-Joseph_Le-lion.txt_chunk_68                                      ADVENTURE\n",
       "1840_Beauvoir_Roger-de_Le-chevalier-de-Saint-Ge...                       NON_ADVENTURE\n",
       "1840_Beauvoir_Roger-de_Le-chevalier-de-Saint-Ge...                           ADVENTURE\n",
       "1830_Sue-Eugene_Kernok-le-Pirate.txt_chunk_44                                ADVENTURE\n",
       "1934_Ivoi_Paul-d_Le-docteur-Mystère.txt_chunk_365   ADVENTURE\\n\\nThe text you provided\n",
       "1840_Beauvoir_Roger-de_Le-chevalier-de-Saint-Ge...                           ADVENTURE\n",
       "1958_Kessel-Joseph_Le-lion.txt_chunk_69                                      ADVENTURE"
      ]
     },
     "execution_count": 52,
     "metadata": {},
     "output_type": "execute_result"
    }
   ],
   "source": [
    "df_labels"
   ]
  },
  {
   "cell_type": "code",
   "execution_count": null,
   "id": "6gQwFkvZeoiq",
   "metadata": {
    "id": "6gQwFkvZeoiq"
   },
   "outputs": [],
   "source": []
  }
 ],
 "metadata": {
  "accelerator": "GPU",
  "colab": {
   "gpuType": "T4",
   "provenance": [
    {
     "file_id": "1SCFRw-YhB4rJr1Y3qA3z89v2IkqD3B6U",
     "timestamp": 1734602274377
    }
   ]
  },
  "kernelspec": {
   "display_name": "Python 3 (ipykernel)",
   "language": "python",
   "name": "python3"
  },
  "language_info": {
   "codemirror_mode": {
    "name": "ipython",
    "version": 3
   },
   "file_extension": ".py",
   "mimetype": "text/x-python",
   "name": "python",
   "nbconvert_exporter": "python",
   "pygments_lexer": "ipython3",
   "version": "3.12.3"
  },
  "widgets": {
   "application/vnd.jupyter.widget-state+json": {
    "089e1631b5204006b0de57bd274d850c": {
     "model_module": "@jupyter-widgets/controls",
     "model_module_version": "1.5.0",
     "model_name": "HBoxModel",
     "state": {
      "_dom_classes": [],
      "_model_module": "@jupyter-widgets/controls",
      "_model_module_version": "1.5.0",
      "_model_name": "HBoxModel",
      "_view_count": null,
      "_view_module": "@jupyter-widgets/controls",
      "_view_module_version": "1.5.0",
      "_view_name": "HBoxView",
      "box_style": "",
      "children": [
       "IPY_MODEL_256dc27987074887a587510e1063b80f",
       "IPY_MODEL_2cdae30c84ae4d9aa75e17c6f12ba7f0",
       "IPY_MODEL_8f74701d475b4087b33511f2f28583e7"
      ],
      "layout": "IPY_MODEL_16406b5f199b47489b9b2d1f47ed6f70"
     }
    },
    "16406b5f199b47489b9b2d1f47ed6f70": {
     "model_module": "@jupyter-widgets/base",
     "model_module_version": "1.2.0",
     "model_name": "LayoutModel",
     "state": {
      "_model_module": "@jupyter-widgets/base",
      "_model_module_version": "1.2.0",
      "_model_name": "LayoutModel",
      "_view_count": null,
      "_view_module": "@jupyter-widgets/base",
      "_view_module_version": "1.2.0",
      "_view_name": "LayoutView",
      "align_content": null,
      "align_items": null,
      "align_self": null,
      "border": null,
      "bottom": null,
      "display": null,
      "flex": null,
      "flex_flow": null,
      "grid_area": null,
      "grid_auto_columns": null,
      "grid_auto_flow": null,
      "grid_auto_rows": null,
      "grid_column": null,
      "grid_gap": null,
      "grid_row": null,
      "grid_template_areas": null,
      "grid_template_columns": null,
      "grid_template_rows": null,
      "height": null,
      "justify_content": null,
      "justify_items": null,
      "left": null,
      "margin": null,
      "max_height": null,
      "max_width": null,
      "min_height": null,
      "min_width": null,
      "object_fit": null,
      "object_position": null,
      "order": null,
      "overflow": null,
      "overflow_x": null,
      "overflow_y": null,
      "padding": null,
      "right": null,
      "top": null,
      "visibility": null,
      "width": null
     }
    },
    "219ecd0083ce47e4a1a72fbaee5a0447": {
     "model_module": "@jupyter-widgets/base",
     "model_module_version": "1.2.0",
     "model_name": "LayoutModel",
     "state": {
      "_model_module": "@jupyter-widgets/base",
      "_model_module_version": "1.2.0",
      "_model_name": "LayoutModel",
      "_view_count": null,
      "_view_module": "@jupyter-widgets/base",
      "_view_module_version": "1.2.0",
      "_view_name": "LayoutView",
      "align_content": null,
      "align_items": null,
      "align_self": null,
      "border": null,
      "bottom": null,
      "display": null,
      "flex": null,
      "flex_flow": null,
      "grid_area": null,
      "grid_auto_columns": null,
      "grid_auto_flow": null,
      "grid_auto_rows": null,
      "grid_column": null,
      "grid_gap": null,
      "grid_row": null,
      "grid_template_areas": null,
      "grid_template_columns": null,
      "grid_template_rows": null,
      "height": null,
      "justify_content": null,
      "justify_items": null,
      "left": null,
      "margin": null,
      "max_height": null,
      "max_width": null,
      "min_height": null,
      "min_width": null,
      "object_fit": null,
      "object_position": null,
      "order": null,
      "overflow": null,
      "overflow_x": null,
      "overflow_y": null,
      "padding": null,
      "right": null,
      "top": null,
      "visibility": null,
      "width": null
     }
    },
    "256dc27987074887a587510e1063b80f": {
     "model_module": "@jupyter-widgets/controls",
     "model_module_version": "1.5.0",
     "model_name": "HTMLModel",
     "state": {
      "_dom_classes": [],
      "_model_module": "@jupyter-widgets/controls",
      "_model_module_version": "1.5.0",
      "_model_name": "HTMLModel",
      "_view_count": null,
      "_view_module": "@jupyter-widgets/controls",
      "_view_module_version": "1.5.0",
      "_view_name": "HTMLView",
      "description": "",
      "description_tooltip": null,
      "layout": "IPY_MODEL_2619d7816c574808930a9df06c32bea8",
      "placeholder": "​",
      "style": "IPY_MODEL_a805847102bb4c1f9b5fdd9aca22d873",
      "value": "100%"
     }
    },
    "2619d7816c574808930a9df06c32bea8": {
     "model_module": "@jupyter-widgets/base",
     "model_module_version": "1.2.0",
     "model_name": "LayoutModel",
     "state": {
      "_model_module": "@jupyter-widgets/base",
      "_model_module_version": "1.2.0",
      "_model_name": "LayoutModel",
      "_view_count": null,
      "_view_module": "@jupyter-widgets/base",
      "_view_module_version": "1.2.0",
      "_view_name": "LayoutView",
      "align_content": null,
      "align_items": null,
      "align_self": null,
      "border": null,
      "bottom": null,
      "display": null,
      "flex": null,
      "flex_flow": null,
      "grid_area": null,
      "grid_auto_columns": null,
      "grid_auto_flow": null,
      "grid_auto_rows": null,
      "grid_column": null,
      "grid_gap": null,
      "grid_row": null,
      "grid_template_areas": null,
      "grid_template_columns": null,
      "grid_template_rows": null,
      "height": null,
      "justify_content": null,
      "justify_items": null,
      "left": null,
      "margin": null,
      "max_height": null,
      "max_width": null,
      "min_height": null,
      "min_width": null,
      "object_fit": null,
      "object_position": null,
      "order": null,
      "overflow": null,
      "overflow_x": null,
      "overflow_y": null,
      "padding": null,
      "right": null,
      "top": null,
      "visibility": null,
      "width": null
     }
    },
    "2cdae30c84ae4d9aa75e17c6f12ba7f0": {
     "model_module": "@jupyter-widgets/controls",
     "model_module_version": "1.5.0",
     "model_name": "FloatProgressModel",
     "state": {
      "_dom_classes": [],
      "_model_module": "@jupyter-widgets/controls",
      "_model_module_version": "1.5.0",
      "_model_name": "FloatProgressModel",
      "_view_count": null,
      "_view_module": "@jupyter-widgets/controls",
      "_view_module_version": "1.5.0",
      "_view_name": "ProgressView",
      "bar_style": "success",
      "description": "",
      "description_tooltip": null,
      "layout": "IPY_MODEL_4d20a3f64278491b832c54faae7a5d7d",
      "max": 10,
      "min": 0,
      "orientation": "horizontal",
      "style": "IPY_MODEL_cd3d911969b74eb88ac7b7b7eb4fe465",
      "value": 10
     }
    },
    "4a107ee39116470cb0ad7edeb43ed9d1": {
     "model_module": "@jupyter-widgets/controls",
     "model_module_version": "1.5.0",
     "model_name": "DescriptionStyleModel",
     "state": {
      "_model_module": "@jupyter-widgets/controls",
      "_model_module_version": "1.5.0",
      "_model_name": "DescriptionStyleModel",
      "_view_count": null,
      "_view_module": "@jupyter-widgets/base",
      "_view_module_version": "1.2.0",
      "_view_name": "StyleView",
      "description_width": ""
     }
    },
    "4d20a3f64278491b832c54faae7a5d7d": {
     "model_module": "@jupyter-widgets/base",
     "model_module_version": "1.2.0",
     "model_name": "LayoutModel",
     "state": {
      "_model_module": "@jupyter-widgets/base",
      "_model_module_version": "1.2.0",
      "_model_name": "LayoutModel",
      "_view_count": null,
      "_view_module": "@jupyter-widgets/base",
      "_view_module_version": "1.2.0",
      "_view_name": "LayoutView",
      "align_content": null,
      "align_items": null,
      "align_self": null,
      "border": null,
      "bottom": null,
      "display": null,
      "flex": null,
      "flex_flow": null,
      "grid_area": null,
      "grid_auto_columns": null,
      "grid_auto_flow": null,
      "grid_auto_rows": null,
      "grid_column": null,
      "grid_gap": null,
      "grid_row": null,
      "grid_template_areas": null,
      "grid_template_columns": null,
      "grid_template_rows": null,
      "height": null,
      "justify_content": null,
      "justify_items": null,
      "left": null,
      "margin": null,
      "max_height": null,
      "max_width": null,
      "min_height": null,
      "min_width": null,
      "object_fit": null,
      "object_position": null,
      "order": null,
      "overflow": null,
      "overflow_x": null,
      "overflow_y": null,
      "padding": null,
      "right": null,
      "top": null,
      "visibility": null,
      "width": null
     }
    },
    "8f74701d475b4087b33511f2f28583e7": {
     "model_module": "@jupyter-widgets/controls",
     "model_module_version": "1.5.0",
     "model_name": "HTMLModel",
     "state": {
      "_dom_classes": [],
      "_model_module": "@jupyter-widgets/controls",
      "_model_module_version": "1.5.0",
      "_model_name": "HTMLModel",
      "_view_count": null,
      "_view_module": "@jupyter-widgets/controls",
      "_view_module_version": "1.5.0",
      "_view_name": "HTMLView",
      "description": "",
      "description_tooltip": null,
      "layout": "IPY_MODEL_219ecd0083ce47e4a1a72fbaee5a0447",
      "placeholder": "​",
      "style": "IPY_MODEL_4a107ee39116470cb0ad7edeb43ed9d1",
      "value": " 10/10 [00:04&lt;00:00,  2.20it/s]"
     }
    },
    "a805847102bb4c1f9b5fdd9aca22d873": {
     "model_module": "@jupyter-widgets/controls",
     "model_module_version": "1.5.0",
     "model_name": "DescriptionStyleModel",
     "state": {
      "_model_module": "@jupyter-widgets/controls",
      "_model_module_version": "1.5.0",
      "_model_name": "DescriptionStyleModel",
      "_view_count": null,
      "_view_module": "@jupyter-widgets/base",
      "_view_module_version": "1.2.0",
      "_view_name": "StyleView",
      "description_width": ""
     }
    },
    "cd3d911969b74eb88ac7b7b7eb4fe465": {
     "model_module": "@jupyter-widgets/controls",
     "model_module_version": "1.5.0",
     "model_name": "ProgressStyleModel",
     "state": {
      "_model_module": "@jupyter-widgets/controls",
      "_model_module_version": "1.5.0",
      "_model_name": "ProgressStyleModel",
      "_view_count": null,
      "_view_module": "@jupyter-widgets/base",
      "_view_module_version": "1.2.0",
      "_view_name": "StyleView",
      "bar_color": null,
      "description_width": ""
     }
    }
   }
  }
 },
 "nbformat": 4,
 "nbformat_minor": 5
}
